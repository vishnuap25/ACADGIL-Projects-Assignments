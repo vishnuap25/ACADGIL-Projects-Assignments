{
 "cells": [
  {
   "cell_type": "markdown",
   "metadata": {},
   "source": [
    "## CREATE A PIGGY BANK APPLICATION"
   ]
  },
  {
   "cell_type": "code",
   "execution_count": 3,
   "metadata": {},
   "outputs": [
    {
     "name": "stdout",
     "output_type": "stream",
     "text": [
      "Start or End : start\n",
      "Add , Withdraw or Check : check\n",
      "\n",
      "Current Balance is : 0 \n",
      "\n",
      "Start or End : start\n",
      "Add , Withdraw or Check : add\n",
      "Please Enter the amount : 1000\n",
      "\n",
      "Amount 1000 added. Current Balance is : 1000 \n",
      "\n",
      "Start or End : start\n",
      "Add , Withdraw or Check : withdraw\n",
      "Please Enter the amount : 300\n",
      "\n",
      "Amount 300 withdrawn. Current Balance is : 700 \n",
      "\n",
      "Start or End : start\n",
      "Add , Withdraw or Check : check\n",
      "\n",
      "Current Balance is : 700 \n",
      "\n",
      "Start or End : end\n",
      "Thank You. Visit us soon!!!\n"
     ]
    }
   ],
   "source": [
    "# Define a piggy bank class\n",
    "class PiggyBank:\n",
    "    \n",
    "    # Define the constructor the same\n",
    "    def __init__(self):\n",
    "        pass\n",
    "        \n",
    "    # Define a method to add amount into the piggybank\n",
    "    def addMoney(self, amount):\n",
    "        global saving\n",
    "        saving += int(amount)\n",
    "        return \"\\nAmount \" + amount + \" added. Current Balance is : \" + str(saving)\n",
    "    \n",
    "    # Define a method to withdraw amount into the piggybank\n",
    "    def withdrawMoney(self, amount):\n",
    "        global saving\n",
    "        if int(amount) > saving:\n",
    "            return \"Insufficent Funds\"\n",
    "        else:\n",
    "            saving -= int(amount)\n",
    "            return \"\\nAmount \" + amount + \" withdrawn. Current Balance is : \" + str(saving)\n",
    "        \n",
    "    # Define a method to check amount into the piggybank\n",
    "    def checkMoney(self):\n",
    "        global saving\n",
    "        return  \"\\nCurrent Balance is : \" + str(saving)\n",
    "        \n",
    "# MAin section starts here\n",
    "saving = 0\n",
    "while True:\n",
    "    # Check whether the user wants to start or end\n",
    "    user_input = input(\"Start or End : \").strip(\" \").lower()\n",
    "    if user_input == \"start\":\n",
    "        # Create an object of the class\n",
    "        pgy_bnk = PiggyBank()\n",
    "        while True:\n",
    "            oper_input = input(\"Add , Withdraw or Check : \").strip(\" \").lower()\n",
    "            if oper_input == \"add\":\n",
    "                amount = input(\"Please Enter the amount : \").strip(\" \")\n",
    "                print (pgy_bnk.addMoney(amount), \"\\n\")\n",
    "                break\n",
    "            elif oper_input == \"withdraw\": \n",
    "                amount = input(\"Please Enter the amount : \").strip(\" \")\n",
    "                print (pgy_bnk.withdrawMoney(amount), \"\\n\")\n",
    "                break\n",
    "            elif oper_input == \"check\": \n",
    "                print (pgy_bnk.checkMoney() , \"\\n\")\n",
    "                break\n",
    "            else:\n",
    "                continue\n",
    "    elif user_input == \"end\":\n",
    "        print (\"Thank You. Visit us soon!!!\")\n",
    "        break\n",
    "    else:\n",
    "        continue"
   ]
  },
  {
   "cell_type": "code",
   "execution_count": null,
   "metadata": {},
   "outputs": [],
   "source": []
  }
 ],
 "metadata": {
  "kernelspec": {
   "display_name": "Python 3",
   "language": "python",
   "name": "python3"
  },
  "language_info": {
   "codemirror_mode": {
    "name": "ipython",
    "version": 3
   },
   "file_extension": ".py",
   "mimetype": "text/x-python",
   "name": "python",
   "nbconvert_exporter": "python",
   "pygments_lexer": "ipython3",
   "version": "3.7.3"
  }
 },
 "nbformat": 4,
 "nbformat_minor": 2
}
