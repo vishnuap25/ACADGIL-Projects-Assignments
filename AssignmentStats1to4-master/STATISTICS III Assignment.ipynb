{
 "cells": [
  {
   "cell_type": "markdown",
   "metadata": {},
   "source": [
    "## ASSIGNMENT : STATISTICS "
   ]
  },
  {
   "cell_type": "markdown",
   "metadata": {},
   "source": [
    "### PROBLEM STATMENT 1"
   ]
  },
  {
   "cell_type": "markdown",
   "metadata": {},
   "source": [
    "### Blood glucose levels for obese patients have a mean of 100 with a standard deviation of 15. A researcher thinks that a diet high in raw cornstarch will have a positive effect on blood glucose levels. A sample of 36 patients who have tried the raw cornstarch diet have a mean glucose level of 108. Test the hypothesis that the raw cornstarch had an effect or not."
   ]
  },
  {
   "cell_type": "markdown",
   "metadata": {},
   "source": [
    "Hypothesis: <br><br>\n",
    "H0 : 𝜇 = 100 <br>\n",
    "HA : 𝜇 > 100<br>\n",
    "<br><br>\n",
    "Population mean = 100 <br>\n",
    "Population Standard Deviation = 15<br>\n",
    "<br>\n",
    "Sample size = 36<br>\n",
    "mean = 108<br>\n",
    "<br>\n",
    "Use the Z statics as SD for population is given<br>\n",
    "z = (sample mean - population mean)/ (standard Deviation/square root of sample size)<br><br>\n",
    "Alpha = 0.05"
   ]
  },
  {
   "cell_type": "code",
   "execution_count": 4,
   "metadata": {},
   "outputs": [
    {
     "data": {
      "text/plain": [
       "3.2"
      ]
     },
     "execution_count": 4,
     "metadata": {},
     "output_type": "execute_result"
    }
   ],
   "source": [
    "Z_stat = (108-100)/(15/(36)**0.5); Z_stat"
   ]
  },
  {
   "cell_type": "markdown",
   "metadata": {},
   "source": [
    "P value from the Z table table : 0.9993\n",
    "Z-critical value = 1.645\n",
    "\n",
    "### CONCLUSION\n",
    "Clearly the Z computed value is greater than the Z-critical Value, indicating it is in the rejection area.<br>\n",
    "Also the p value is greater than the Alpha value.<br>\n",
    "As a result the null hypothesis will be rejected."
   ]
  },
  {
   "cell_type": "markdown",
   "metadata": {},
   "source": [
    "### PROBLEM STATMENT 2"
   ]
  },
  {
   "cell_type": "markdown",
   "metadata": {},
   "source": [
    "### In one state, 52% of the voters are Republicans, and 48% are Democrats. In a second state, 47% of the voters are Republicans, and 53% are Democrats. Suppose a simple random sample of 100 voters are surveyed from each state. \n",
    "\n",
    "### What is the probability that the survey will show a greater percentage of Republican voters in the second state than in the first state?"
   ]
  },
  {
   "cell_type": "markdown",
   "metadata": {},
   "source": [
    "The above is a Propotion Problem<br>\n",
    "<br>\n",
    "P1 = Propotion of Republicans in the First state = 0.52<br>\n",
    "P2 = Propotion of Republicans in the Second state = 0.47<br>\n",
    "p1 = Propotion of Democrats in the First state = 0.48<br>\n",
    "p2 = Propotion of Democrats in the Secons state = 0.53<br>\n",
    "<br>\n",
    "Check whether the sample sizes are big. Remeber p1 = 1 - P1 and p2 = 1 - P2<br>\n",
    "n1P1 = 100 * 0.52 = 52<br>\n",
    "n1(1 - P1) = 100 * 0.48 = 48<br>\n",
    "n1P2 = 100 * 0.47 = 47<br>\n",
    "n1(1 - P2) = 100 * 0.53 = 53<br>\n",
    "<br>\n",
    "Clearly the sample sizes are big enough<br>\n",
    "<br>\n",
    "Difference in means = E(p1 - p2) = P1 - P2 = 0.52 - 0.47 = 0.05<br>\n",
    "<br>\n",
    "Standard Deviation Formula is :<br>\n",
    "σd = sqrt{ [P1(1 - P1) / n1 ] + [ P2(1 - P2) / n2 ] } \n"
   ]
  },
  {
   "cell_type": "code",
   "execution_count": 7,
   "metadata": {},
   "outputs": [
    {
     "data": {
      "text/plain": [
       "0.07061869440877536"
      ]
     },
     "execution_count": 7,
     "metadata": {},
     "output_type": "execute_result"
    }
   ],
   "source": [
    "sd = (((0.52 * 0.48)/100) + ((0.47 * 0.53)/100)) ** 0.5; sd"
   ]
  },
  {
   "cell_type": "markdown",
   "metadata": {},
   "source": [
    "Compute the Z score for the same\n",
    "z (p1 - p2) = (x - μ p1 - p2 ) / sd"
   ]
  },
  {
   "cell_type": "code",
   "execution_count": 9,
   "metadata": {},
   "outputs": [
    {
     "data": {
      "text/plain": [
       "-0.7080278164104207"
      ]
     },
     "execution_count": 9,
     "metadata": {},
     "output_type": "execute_result"
    }
   ],
   "source": [
    "z_score = (0 - 0.05) / sd; z_score"
   ]
  },
  {
   "cell_type": "markdown",
   "metadata": {},
   "source": [
    "### The value from the Z-table for -0.071 is 0.24."
   ]
  },
  {
   "cell_type": "markdown",
   "metadata": {},
   "source": [
    "### PROBLEM STATMENT 3"
   ]
  },
  {
   "cell_type": "markdown",
   "metadata": {},
   "source": [
    "### You take the SAT and score 1100. The mean score for the SAT is 1026 and the standard deviation is 209. How well did you score on the test compared to the average test taker?"
   ]
  },
  {
   "cell_type": "code",
   "execution_count": 10,
   "metadata": {},
   "outputs": [],
   "source": [
    "Z = (1100 - 1026)/209"
   ]
  },
  {
   "cell_type": "code",
   "execution_count": 12,
   "metadata": {},
   "outputs": [
    {
     "data": {
      "text/plain": [
       "0.35406698564593303"
      ]
     },
     "execution_count": 12,
     "metadata": {},
     "output_type": "execute_result"
    }
   ],
   "source": [
    "Z"
   ]
  },
  {
   "cell_type": "markdown",
   "metadata": {},
   "source": [
    "### Your score 0.354 from the mean"
   ]
  },
  {
   "cell_type": "code",
   "execution_count": null,
   "metadata": {},
   "outputs": [],
   "source": []
  }
 ],
 "metadata": {
  "kernelspec": {
   "display_name": "Python 3",
   "language": "python",
   "name": "python3"
  },
  "language_info": {
   "codemirror_mode": {
    "name": "ipython",
    "version": 3
   },
   "file_extension": ".py",
   "mimetype": "text/x-python",
   "name": "python",
   "nbconvert_exporter": "python",
   "pygments_lexer": "ipython3",
   "version": "3.7.3"
  }
 },
 "nbformat": 4,
 "nbformat_minor": 2
}
