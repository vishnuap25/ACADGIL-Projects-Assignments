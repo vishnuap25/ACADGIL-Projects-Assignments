{
 "cells": [
  {
   "cell_type": "code",
   "execution_count": 6,
   "metadata": {},
   "outputs": [],
   "source": [
    "import statistics as st\n",
    "from functools import reduce"
   ]
  },
  {
   "cell_type": "markdown",
   "metadata": {},
   "source": [
    "### You survey households in your area to find the average rent they are paying. Find the\n",
    "standard deviation from the following data:\n",
    "$1550, $1700, $900, $850, $1000, $950.\n"
   ]
  },
  {
   "cell_type": "code",
   "execution_count": 13,
   "metadata": {},
   "outputs": [
    {
     "name": "stdout",
     "output_type": "stream",
     "text": [
      "Mean is :  1158.3333333333333\n",
      "Variance is :  112847.22222222223\n",
      "Standard Deviation is :  335.92740617910624\n"
     ]
    }
   ],
   "source": [
    "# Create the dataset for the same\n",
    "rent = [1550, 1700, 900,850, 1000,950]\n",
    "# Calculate the mean of the list\n",
    "mean = sum(rent)/len(rent)\n",
    "print (\"Mean is : \", mean)\n",
    "# Calculate the variance\n",
    "diff_mean = list(map(lambda x : (x - mean)**2 , rent))\n",
    "var = sum(diff_mean)/len(rent)\n",
    "print (\"Variance is : \", var)\n",
    "# Calculate the standard deviation\n",
    "sd = var ** 0.5\n",
    "print (\"Standard Deviation is : \", sd)\n"
   ]
  },
  {
   "cell_type": "markdown",
   "metadata": {},
   "source": [
    "### Find the variance for the following set of data representing trees in California (heights in feet):\n",
    "3, 21, 98, 203, 17, 9"
   ]
  },
  {
   "cell_type": "code",
   "execution_count": 28,
   "metadata": {},
   "outputs": [
    {
     "name": "stdout",
     "output_type": "stream",
     "text": [
      "Variance is :  5183.25\n"
     ]
    }
   ],
   "source": [
    "trees = [3, 21, 98, 203, 17, 9]\n",
    "# Calculate mean \n",
    "mean = sum(trees)/len(trees)\n",
    "# Calculate the variance\n",
    "diff_mean = list(map(lambda x : (x - mean)**2 , trees))\n",
    "var = sum(diff_mean)/len(trees)\n",
    "print (\"Variance is : \", var)"
   ]
  },
  {
   "cell_type": "markdown",
   "metadata": {},
   "source": [
    "### In a class on 100 students, 80 students passed in all subjects, 10 failed in one subject, 7 failed in two subjects and 3 failed in three subjects. Find the probability distribution of the variable for number of subjects a student from the given class has failed in."
   ]
  },
  {
   "cell_type": "code",
   "execution_count": 31,
   "metadata": {},
   "outputs": [
    {
     "name": "stdout",
     "output_type": "stream",
     "text": [
      "Total number of students in the class : 100\n",
      "Probability of failing in 0 subjects : 0.8\n",
      "Probability of failing in 1 subjects : 0.1\n",
      "Probability of failing in 2 subjects : 0.07\n",
      "Probability of failing in 3 subjects : 0.03\n"
     ]
    }
   ],
   "source": [
    "print (\"Total number of students in the class : 100\")\n",
    "print (\"Probability of failing in {} subjects : {}\".format(0, 80/100))\n",
    "print (\"Probability of failing in {} subjects : {}\".format(1, 10/100))\n",
    "print (\"Probability of failing in {} subjects : {}\".format(2, 7/100))\n",
    "print (\"Probability of failing in {} subjects : {}\".format(3, 3/100))"
   ]
  },
  {
   "cell_type": "markdown",
   "metadata": {},
   "source": [
    "### Based on the above data the probability distribution can be shown as below\n",
    "\n",
    "| PROBABILITY | 0   | 1   | 2   | 3   |\n",
    "|-------------|-----|-----|-----|-----|\n",
    "| P(X)        | 0.8 | 0.1 | 0.07| 0.03| "
   ]
  },
  {
   "cell_type": "code",
   "execution_count": null,
   "metadata": {},
   "outputs": [],
   "source": []
  }
 ],
 "metadata": {
  "kernelspec": {
   "display_name": "Python 3",
   "language": "python",
   "name": "python3"
  },
  "language_info": {
   "codemirror_mode": {
    "name": "ipython",
    "version": 3
   },
   "file_extension": ".py",
   "mimetype": "text/x-python",
   "name": "python",
   "nbconvert_exporter": "python",
   "pygments_lexer": "ipython3",
   "version": "3.7.1"
  }
 },
 "nbformat": 4,
 "nbformat_minor": 2
}
