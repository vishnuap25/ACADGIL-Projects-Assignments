{
 "cells": [
  {
   "cell_type": "code",
   "execution_count": 2,
   "metadata": {},
   "outputs": [],
   "source": [
    "import statistics as st\n",
    "from functools import reduce\n",
    "import math"
   ]
  },
  {
   "cell_type": "markdown",
   "metadata": {},
   "source": [
    "### FORMULA TO CALCULATE BINOMIAL DISTRIBUTION IS :\n",
    "P (‘k’ successes in ‘n’ trials) = C(n,k)sk(1−s)(n−k) \n",
    "\n",
    "s = the probability of success and \n",
    "\n",
    "(1-s) = the probability of failure (or complement of the event)\n",
    "\n",
    "n = Total number of trials\n",
    "\n",
    "K = number of specific events we want to obtain\n",
    "\n",
    "Also nCr represents selection of r events from n, it can be written as: nCk = n!/k!(n−k)!     "
   ]
  },
  {
   "cell_type": "markdown",
   "metadata": {},
   "source": [
    "### A test is conducted which is consisting of 20 MCQs (multiple choices questions) with every MCQ having its four options out of which only one is correct. Determine the probability that a person undertaking that test has answered exactly 5 questions wrong."
   ]
  },
  {
   "cell_type": "code",
   "execution_count": 3,
   "metadata": {},
   "outputs": [
    {
     "name": "stdout",
     "output_type": "stream",
     "text": [
      "Pooabailty to get 5 wrong is :  3.4264958230778575e-06\n"
     ]
    }
   ],
   "source": [
    "n = 20        # number of samples\n",
    "s = 5\n",
    "k = 15\n",
    "\n",
    "# Probability of success \n",
    "p = 1/4\n",
    "# Proability of Failure\n",
    "q = 1 - p\n",
    "\n",
    "# Percentage computation\n",
    "# 20!/15!(5!) * ((1/4) ** 15) * ((3/4) ** 5)\n",
    "\n",
    "array = [i for i in range(1,21)]\n",
    "n_fact = reduce(lambda x,y : x * y, array)\n",
    "pass_fact = reduce(lambda x,y : x * y, array[0:15])\n",
    "fail_fact = reduce(lambda x,y : x * y, array[0:5])\n",
    "\n",
    "# Probaility of 5 failures\n",
    "prob= (n_fact/(pass_fact*fail_fact)) * (p ** k ) * (q ** s)\n",
    "print (\"Pooabailty to get 5 wrong is : \", prob)"
   ]
  },
  {
   "cell_type": "markdown",
   "metadata": {},
   "source": [
    "### A die marked A to E is rolled 50 times. Find the probability of getting a “D” exactly 5 times."
   ]
  },
  {
   "cell_type": "code",
   "execution_count": 6,
   "metadata": {},
   "outputs": [
    {
     "name": "stdout",
     "output_type": "stream",
     "text": [
      "Proabailty to get D 5 times is :  0.029531204310524296\n"
     ]
    }
   ],
   "source": [
    "n = 50\n",
    "#success count\n",
    "k = 5\n",
    "# Failure\n",
    "s = 50 -k    # 45\n",
    "\n",
    "# Probabilty of success \n",
    "p = 1/5    # As it is A to E, there are only 5 possibilties\n",
    "# Probiblity of failure\n",
    "q = 1 - p\n",
    "\n",
    "# Compute the probavilty\n",
    "prob = (math.factorial(n) / (math.factorial(k) * math.factorial(s))) * (p ** k) * (q ** s)\n",
    "print (\"Proabailty to get D 5 times is : \", prob)"
   ]
  },
  {
   "cell_type": "markdown",
   "metadata": {},
   "source": [
    "### Two balls are drawn at random in succession without replacement from an urn containing 4 red balls and 6 black balls. Find the probabilities of all the possible outcomes."
   ]
  },
  {
   "cell_type": "markdown",
   "metadata": {},
   "source": [
    "Total Number of balls : 10<br>\n",
    "Probabilty of two reds    : RR : P(R) * P(R) : (4/10) * (3/9) &emsp; : 2/15 &emsp; :This because without replacement<br>\n",
    "Probabilty of red & black : RB : P(R) * P(B) : (4/10) * (6/9) &emsp; : 4/15 &emsp; :This because without replacement<br>\n",
    "Probabilty of black & red : BR : P(B) * P(R) : (6/10) * (4/9) &emsp; : 4/15 &emsp; :This because without replacement<br>\n",
    "Probabilty of two blacks  : BB : P(B) * P(B) : (6/10) * (5/9) &emsp; : 1/3  &emsp;&nbsp;&nbsp; :This because without replacement<br>\n",
    "<br>\n",
    "<br>\n",
    "Probabilty of 2 Reds &emsp;  &emsp; &emsp;  &emsp;         : 2/15        : 2/15<br>\n",
    "Probabilty of 1 red and 1 black : 4/15 + 4/15 : 8/15<br>\n",
    "Probabilty of 3 blacs &emsp; &emsp; &emsp;  &emsp;         : 1/3         : 1/3\n"
   ]
  },
  {
   "cell_type": "code",
   "execution_count": null,
   "metadata": {},
   "outputs": [],
   "source": []
  }
 ],
 "metadata": {
  "kernelspec": {
   "display_name": "Python 3",
   "language": "python",
   "name": "python3"
  },
  "language_info": {
   "codemirror_mode": {
    "name": "ipython",
    "version": 3
   },
   "file_extension": ".py",
   "mimetype": "text/x-python",
   "name": "python",
   "nbconvert_exporter": "python",
   "pygments_lexer": "ipython3",
   "version": "3.7.3"
  }
 },
 "nbformat": 4,
 "nbformat_minor": 2
}
