{
 "cells": [
  {
   "cell_type": "markdown",
   "metadata": {},
   "source": [
    "# This case study consists of 1000 marks and the solution file is expected to be submitted in the upcoming session for evaluation."
   ]
  },
  {
   "cell_type": "code",
   "execution_count": 1,
   "metadata": {},
   "outputs": [],
   "source": [
    "import numpy as np"
   ]
  },
  {
   "cell_type": "markdown",
   "metadata": {},
   "source": [
    "### 1.Create two matrices of 3*3 and perform the arithmatic operations metioned in below \"print\" statements"
   ]
  },
  {
   "cell_type": "code",
   "execution_count": 10,
   "metadata": {},
   "outputs": [
    {
     "name": "stdout",
     "output_type": "stream",
     "text": [
      "\n",
      "1st Matrix of random single-digit numbers\n",
      "----------------------------------------\n",
      " [[4 8 6]\n",
      " [6 5 7]\n",
      " [5 5 6]]\n",
      "\n",
      "2nd Matrix of random single-digit numbers\n",
      "----------------------------------------\n",
      " [[8 8 5]\n",
      " [7 5 1]\n",
      " [7 5 1]]\n",
      "\n",
      "Addition\n",
      "------------------\n",
      " [[12 16 11]\n",
      " [13 10  8]\n",
      " [12 10  7]]\n",
      "\n",
      "Multiplication\n",
      "------------------\n",
      " [[32 64 30]\n",
      " [42 25  7]\n",
      " [35 25  6]]\n",
      "\n",
      "Division\n",
      "------------------\n",
      " [[0.5        1.         1.2       ]\n",
      " [0.85714286 1.         7.        ]\n",
      " [0.71428571 1.         6.        ]]\n",
      "\n",
      "Linear combination: 3*A - 2*B\n",
      "-----------------------------\n",
      " [[-4  8  8]\n",
      " [ 4  5 19]\n",
      " [ 1  5 16]]\n",
      "\n",
      "Addition of a scalar (100)\n",
      "-------------------------\n",
      " [[104 108 106]\n",
      " [106 105 107]\n",
      " [105 105 106]]\n",
      "\n",
      "Exponentiation, matrix cubed here\n",
      "----------------------------------------\n",
      " [[ 64 512 216]\n",
      " [216 125 343]\n",
      " [125 125 216]]\n",
      "\n",
      "Exponentiation, mat1 sq-root using pow function\n",
      "-------------------------------------------\n",
      " [[2.         2.82842712 2.44948974]\n",
      " [2.44948974 2.23606798 2.64575131]\n",
      " [2.23606798 2.23606798 2.44948974]]\n"
     ]
    }
   ],
   "source": [
    "mat1 = np.random.randint(1,9,9).reshape(3,3)\n",
    "mat2 = np.random.randint(1,9,9).reshape(3,3)\n",
    "print(\"\\n1st Matrix of random single-digit numbers\\n----------------------------------------\\n\",mat1)\n",
    "print(\"\\n2nd Matrix of random single-digit numbers\\n----------------------------------------\\n\",mat2)\n",
    "\n",
    "\n",
    "print(\"\\nAddition\\n------------------\\n\", mat1 + mat2)\n",
    "print(\"\\nMultiplication\\n------------------\\n\", np.multiply(mat1,mat2))\n",
    "\n",
    "\n",
    "print(\"\\nDivision\\n------------------\\n\", mat1/mat2)\n",
    "print(\"\\nLinear combination: 3*A - 2*B\\n-----------------------------\\n\", 3*mat1 - 2*mat2)\n",
    "\n",
    "\n",
    "print(\"\\nAddition of a scalar (100)\\n-------------------------\\n\", mat1 + 100)\n",
    "\n",
    "\n",
    "print(\"\\nExponentiation, matrix cubed here\\n----------------------------------------\\n\", mat1 ** 3)\n",
    "print(\"\\nExponentiation, mat1 sq-root using pow function\\n-------------------------------------------\\n\",pow(mat1,0.5))"
   ]
  },
  {
   "cell_type": "code",
   "execution_count": null,
   "metadata": {},
   "outputs": [],
   "source": [
    "mat1 = ****\n",
    "mat2 = ****\n",
    "print(\"\\n1st Matrix of random single-digit numbers\\n----------------------------------------\\n\",mat1)\n",
    "print(\"\\n2nd Matrix of random single-digit numbers\\n----------------------------------------\\n\",mat2)\n",
    "\n",
    "\n",
    "print(\"\\nAddition\\n------------------\\n\", ****)\n",
    "print(\"\\nMultiplication\\n------------------\\n\", ****)\n",
    "\n",
    "\n",
    "print(\"\\nDivision\\n------------------\\n\", *****)\n",
    "print(\"\\nLinear combination: 3*A - 2*B\\n-----------------------------\\n\", ******)\n",
    "\n",
    "\n",
    "print(\"\\nAddition of a scalar (100)\\n-------------------------\\n\", ******)\n",
    "\n",
    "\n",
    "print(\"\\nExponentiation, matrix cubed here\\n----------------------------------------\\n\", *******)\n",
    "print(\"\\nExponentiation, mat1 sq-root using pow function\\n-------------------------------------------\\n\",***********)"
   ]
  },
  {
   "cell_type": "markdown",
   "metadata": {},
   "source": [
    "Some operations, such as += and *=, act in place to modify an existing array rather than create a new one."
   ]
  },
  {
   "cell_type": "markdown",
   "metadata": {},
   "source": [
    "NumPy provides familiar mathematical functions such as sin, cos, and exp. In NumPy, these are called “universal functions”(ufunc). Within NumPy, these functions operate elementwise on an array, producing an array as output."
   ]
  },
  {
   "cell_type": "markdown",
   "metadata": {},
   "source": [
    "### 2.Create two 3 * 3 matrices and perform the following operations as describe in print statement."
   ]
  },
  {
   "cell_type": "code",
   "execution_count": 46,
   "metadata": {},
   "outputs": [
    {
     "name": "stdout",
     "output_type": "stream",
     "text": [
      "\n",
      "1st Matrix of random single-digit numbers\n",
      " -------------------------------------------------- \n",
      " [[4 7 5]\n",
      " [5 4 8]\n",
      " [8 8 3]]\n",
      "\n",
      "2nd Matrix of random single-digit numbers\n",
      " -------------------------------------------------- \n",
      " [[2 3 5]\n",
      " [8 2 5]\n",
      " [6 1 8]]\n",
      "\n",
      "Sum of all numbers in 1st matrix\n",
      " -------------------------------------------------- \n",
      " 52\n",
      "\n",
      "Sum of all numbers in columns of 1st matrix\n",
      " -------------------------------------------------- \n",
      " [17 19 16]\n",
      "\n",
      "Sum of all numbers in rows of 1st matrix\n",
      " -------------------------------------------------- \n",
      " [16 17 19]\n",
      "\n",
      "Product of all numbers in rows of 1st matrix\n",
      " -------------------------------------------------- \n",
      " [140 160 192]\n",
      "\n",
      "Product of all numbers in columns of 2nd matrix\n",
      " -------------------------------------------------- \n",
      " [160 224 120]\n",
      "\n",
      "Mean of all numbers in 1st matrix\n",
      " -------------------------------------------------- \n",
      " 5.777777777777778\n",
      "\n",
      "Standard deviation of all numbers in 1st matrix\n",
      " -------------------------------------------------- \n",
      " 1.8724777273725242\n",
      "\n",
      "Modified matrix of random numbers from 1 to 99\n",
      " -------------------------------------------------- \n",
      " [[33 74 20]\n",
      " [53 45 41]\n",
      " [49 75  3]]\n",
      "\n",
      "Standard deviation of all numbers in the modified matrix, a larger number\n",
      " -------------------------------------------------------------------------------- \n",
      " 21.99494891509816\n",
      "\n",
      "Variance of all numbers in the modified matrix, a larger number\n",
      " -------------------------------------------------------------------------------- \n",
      " 483.77777777777777\n",
      "\n",
      "Median of all numbers in the modified matrix\n",
      " ------------------------------------------------------------ \n",
      " 45.0\n"
     ]
    }
   ],
   "source": [
    "from numpy.random import randint as ri\n",
    "mat1 = np.random.randint(1,9,9).reshape(3,3)\n",
    "mat2 = np.random.randint(1,9,9).reshape(3,3)\n",
    "print(\"\\n1st Matrix of random single-digit numbers\\n\",\"-\"*50,\"\\n\",mat1)\n",
    "print(\"\\n2nd Matrix of random single-digit numbers\\n\",\"-\"*50,\"\\n\",mat2)\n",
    "\n",
    "\n",
    "print(\"\\nSum of all numbers in 1st matrix\\n\",\"-\"*50,\"\\n\",np.sum(mat1))\n",
    "print(\"\\nSum of all numbers in columns of 1st matrix\\n\",\"-\"*50,\"\\n\",np.sum(mat1, axis=0))\n",
    "\n",
    "\n",
    "print(\"\\nSum of all numbers in rows of 1st matrix\\n\",\"-\"*50,\"\\n\",np.sum(mat1, axis=1))\n",
    "print(\"\\nProduct of all numbers in rows of 1st matrix\\n\",\"-\"*50,\"\\n\",np.prod(mat1, axis=1))\n",
    "\n",
    "\n",
    "print(\"\\nProduct of all numbers in columns of 2nd matrix\\n\",\"-\"*50,\"\\n\",np.prod(mat1, axis=0))\n",
    "print(\"\\nMean of all numbers in 1st matrix\\n\",\"-\"*50,\"\\n\",np.mean(mat1))\n",
    "\n",
    "\n",
    "print(\"\\nStandard deviation of all numbers in 1st matrix\\n\",\"-\"*50,\"\\n\",np.std(mat1))\n",
    "\n",
    "mat1 = np.random.randint(1,99,9).reshape(3,3)\n",
    "print(\"\\nModified matrix of random numbers from 1 to 99\\n\",\"-\"*50,\"\\n\",mat1)\n",
    "\n",
    "\n",
    "print(\"\\nStandard deviation of all numbers in the modified matrix, a larger number\\n\",\"-\"*80,\"\\n\",np.std(mat1))\n",
    "\n",
    "\n",
    "print(\"\\nVariance of all numbers in the modified matrix, a larger number\\n\",\"-\"*80,\"\\n\",np.var(mat1))\n",
    "\n",
    "\n",
    "print(\"\\nMedian of all numbers in the modified matrix\\n\",\"-\"*60,\"\\n\",np.median(mat1))\n",
    "\n"
   ]
  },
  {
   "cell_type": "code",
   "execution_count": null,
   "metadata": {
    "scrolled": true
   },
   "outputs": [],
   "source": [
    "from numpy.random import randint as ri\n",
    "mat1 = *******\n",
    "mat2 = *******\n",
    "print(\"\\n1st Matrix of random single-digit numbers\\n\",\"-\"*50,\"\\n\",********)\n",
    "print(\"\\n2nd Matrix of random single-digit numbers\\n\",\"-\"*50,\"\\n\",********)\n",
    "\n",
    "\n",
    "print(\"\\nSum of all numbers in 1st matrix\\n\",\"-\"*50,\"\\n\",np.sum(mat1))\n",
    "print(\"\\nSum of all numbers in columns of 1st matrix\\n\",\"-\"*50,\"\\n\",*******)\n",
    "\n",
    "\n",
    "print(\"\\nSum of all numbers in rows of 1st matrix\\n\",\"-\"*50,\"\\n\",*********)\n",
    "print(\"\\nProduct of all numbers in rows of 1st matrix\\n\",\"-\"*50,\"\\n\",********)\n",
    "\n",
    "\n",
    "print(\"\\nProduct of all numbers in columns of 2nd matrix\\n\",\"-\"*50,\"\\n\",********)\n",
    "print(\"\\nMean of all numbers in 1st matrix\\n\",\"-\"*50,\"\\n\",********)\n",
    "\n",
    "\n",
    "print(\"\\nStandard deviation of all numbers in 1st matrix\\n\",\"-\"*50,\"\\n\",******)\n",
    "\n",
    "\n",
    "mat1 = ************\n",
    "print(\"\\nModified matrix of random numbers from 1 to 99\\n\",\"-\"*50,\"\\n\",****)\n",
    "\n",
    "\n",
    "print(\"\\nStandard deviation of all numbers in the modified matrix, a larger number\\n\",\"-\"*80,\"\\n\",**********)\n",
    "\n",
    "\n",
    "print(\"\\nVariance of all numbers in the modified matrix, a larger number\\n\",\"-\"*80,\"\\n\",*********)\n",
    "\n",
    "\n",
    "print(\"\\nMedian of all numbers in the modified matrix\\n\",\"-\"*60,\"\\n\",**********)\n"
   ]
  },
  {
   "cell_type": "markdown",
   "metadata": {},
   "source": [
    "###  3.Create a 3 \\* 3 Matrix and Modify its shape to 9\\*1 matrix."
   ]
  },
  {
   "cell_type": "code",
   "execution_count": 13,
   "metadata": {},
   "outputs": [
    {
     "data": {
      "text/plain": [
       "array([[0],\n",
       "       [1],\n",
       "       [2],\n",
       "       [3],\n",
       "       [4],\n",
       "       [5],\n",
       "       [6],\n",
       "       [7],\n",
       "       [8]])"
      ]
     },
     "execution_count": 13,
     "metadata": {},
     "output_type": "execute_result"
    }
   ],
   "source": [
    "##Solution\n",
    "x = np.arange(9).reshape(3,3)\n",
    "x.reshape(9,1)"
   ]
  },
  {
   "cell_type": "markdown",
   "metadata": {},
   "source": [
    "### 4.Sort"
   ]
  },
  {
   "cell_type": "code",
   "execution_count": 16,
   "metadata": {},
   "outputs": [
    {
     "name": "stdout",
     "output_type": "stream",
     "text": [
      "\n",
      "Vector of 10 random integers from 1 to 100\n",
      " -------------------------------------------------- \n",
      " [ 9 23 99 80 47 96 89 91 57]\n",
      "\n",
      "Here is the sorted vector\n",
      " -------------------------------------------------- \n",
      " [ 9 23 47 57 80 89 91 96 99]\n"
     ]
    }
   ],
   "source": [
    "A = np.random.randint(1,100,9) # Vector of random interegrs\n",
    "print(\"\\nVector of 10 random integers from 1 to 100\\n\",'-'*50,\"\\n\",A)\n",
    "print(\"\\nHere is the sorted vector\\n\",'-'*50,\"\\n\",np.sort(A))        "
   ]
  },
  {
   "cell_type": "code",
   "execution_count": 19,
   "metadata": {},
   "outputs": [
    {
     "name": "stdout",
     "output_type": "stream",
     "text": [
      "\n",
      "5x5 Matrix of random integers\n",
      " -------------------------------------------------- \n",
      " [[7 1 8 3 3]\n",
      " [5 3 7 2 2]\n",
      " [7 8 1 2 4]\n",
      " [1 7 1 4 7]\n",
      " [7 6 1 1 2]]\n",
      "\n",
      "Here is the sorted matrix along each row\n",
      " -------------------------------------------------- \n",
      " [[1 3 3 7 8]\n",
      " [2 2 3 5 7]\n",
      " [1 2 4 7 8]\n",
      " [1 1 4 7 7]\n",
      " [1 1 2 6 7]]\n",
      "\n",
      "Here is the sorted matrix along each column\n",
      " -------------------------------------------------- \n",
      " [[1 1 1 1 2]\n",
      " [5 3 1 2 2]\n",
      " [7 6 1 2 3]\n",
      " [7 7 7 3 4]\n",
      " [7 8 8 4 7]]\n"
     ]
    }
   ],
   "source": [
    "M = np.random.randint(1,9,25).reshape(5,5) #  5*5 Matrix of random interegrs\n",
    "print(\"\\n5x5 Matrix of random integers\\n\",'-'*50,\"\\n\",M)\n",
    "print(\"\\nHere is the sorted matrix along each row\\n\",'-'*50,\"\\n\",np.sort(M, axis=1)) # Default axis =1\n",
    "print(\"\\nHere is the sorted matrix along each column\\n\",'-'*50,\"\\n\",np.sort(M, axis=0))"
   ]
  },
  {
   "cell_type": "code",
   "execution_count": null,
   "metadata": {},
   "outputs": [],
   "source": [
    "M = ****** #  5*5 Matrix of random interegrs\n",
    "print(\"\\n5x5 Matrix of random integers\\n\",'-'*50,\"\\n\",****)\n",
    "print(\"\\nHere is the sorted matrix along each row\\n\",'-'*50,\"\\n\",******) # Default axis =1\n",
    "print(\"\\nHere is the sorted matrix along each column\\n\",'-'*50,\"\\n\",*********)"
   ]
  },
  {
   "cell_type": "markdown",
   "metadata": {},
   "source": [
    "### 5.Create a,b,c  10 element vectors of random integers and perform the respective operation mentioned in print statement"
   ]
  },
  {
   "cell_type": "code",
   "execution_count": 21,
   "metadata": {},
   "outputs": [
    {
     "name": "stdout",
     "output_type": "stream",
     "text": [
      "a: [1 8 7 7 7 1 6 7 4]\n",
      "b: [3 1 6 8 7 3 1 5 3]\n",
      "c: [3 8 2 4 5 8 5 2 2]\n",
      "Min of a: 1\n",
      "Min of b: 1\n",
      "Min of a location: 0\n",
      "Min of b location: 1\n",
      "Min of c location: 2\n",
      "Max of a: 8\n",
      "Max of b: 8\n",
      "Max of a location: 1\n",
      "Max of b location: 3\n",
      "Max of c location: 1\n"
     ]
    }
   ],
   "source": [
    "# Fill the following ***** with appropriate solution.\n",
    "a= np.random.randint(1,9,9)\n",
    "b= np.random.randint(1,9,9)\n",
    "c= np.random.randint(1,9,9)\n",
    "\n",
    "print(\"a:\", a)\n",
    "print(\"b:\", b)\n",
    "print(\"c:\", c)\n",
    "\n",
    "print(\"Min of a:\", np.min(a))\n",
    "print(\"Min of b:\", np.min(a))\n",
    "\n",
    "\n",
    "print(\"Min of a location:\", np.argmin(a))\n",
    "print(\"Min of b location:\", np.argmin(b))\n",
    "print(\"Min of c location:\", np.argmin(c))\n",
    "\n",
    "print(\"Max of a:\", np.max(a))\n",
    "print(\"Max of b:\",np.max(a))\n",
    "\n",
    "\n",
    "print(\"Max of a location:\", np.argmax(a))\n",
    "print(\"Max of b location:\", np.argmax(b))\n",
    "print(\"Max of c location:\", np.argmax(c))\n"
   ]
  },
  {
   "cell_type": "code",
   "execution_count": 12,
   "metadata": {},
   "outputs": [
    {
     "name": "stdout",
     "output_type": "stream",
     "text": [
      "Max of a: 50\n",
      "Max of b: 3\n",
      "Max of a location: 3\n",
      "Max of b location: 3\n",
      "Max of c location: 3\n",
      "Max of a: 20\n",
      "Max of b: 0\n",
      "Max of a location: 0\n",
      "Max of b location: 0\n",
      "Max of c location: 0\n"
     ]
    }
   ],
   "source": [
    "# Fill the following ***** with appropriate solution.\n",
    "a=\n",
    "b=\n",
    "c=\n",
    "\n",
    "print(\"a:\", a)\n",
    "print(\"b:\", b)\n",
    "print(\"c:\", c)\n",
    "\n",
    "print(\"Max of a:\", ****)\n",
    "print(\"Max of b:\",****)\n",
    "\n",
    "\n",
    "print(\"Max of a location:\", *****)\n",
    "print(\"Max of b location:\", *****)\n",
    "print(\"Max of c location:\", *****)\n",
    "\n",
    "print(\"Max of a:\", *****)\n",
    "print(\"Max of b:\", ****)\n",
    "\n",
    "\n",
    "print(\"Max of a location:\", ******)\n",
    "print(\"Max of b location:\", ******)\n",
    "print(\"Max of c location:\", ******)\n",
    "\n"
   ]
  },
  {
   "cell_type": "markdown",
   "metadata": {},
   "source": [
    "## Universal functions\n",
    "\n",
    "6. Create 3*3 matrices of random single-digit numbers.<br/>\n",
    "Apply universal functions on it. (square root,exponetial,log10,Modulo etc.)"
   ]
  },
  {
   "cell_type": "code",
   "execution_count": 23,
   "metadata": {},
   "outputs": [
    {
     "name": "stdout",
     "output_type": "stream",
     "text": [
      "\n",
      "1st Matrix of random single-digit numbers\n",
      "----------------------------------------\n",
      " [[4 2 3]\n",
      " [1 5 1]\n",
      " [7 5 5]]\n",
      "\n",
      "2nd Matrix of random single-digit numbers\n",
      "----------------------------------------\n",
      " [[3 1 2]\n",
      " [6 1 5]\n",
      " [6 1 3]]\n",
      "\n",
      "Sq-root of 1st matrix using np\n",
      "------------------\n",
      " [[2.         1.41421356 1.73205081]\n",
      " [1.         2.23606798 1.        ]\n",
      " [2.64575131 2.23606798 2.23606798]]\n",
      "\n",
      "Exponential power of 1st matrix using np\n",
      " -------------------------------------------------- \n",
      " [[  54.59815003    7.3890561    20.08553692]\n",
      " [   2.71828183  148.4131591     2.71828183]\n",
      " [1096.63315843  148.4131591   148.4131591 ]]\n",
      "\n",
      "10-base logarithm on 1st matrix using np\n",
      " -------------------------------------------------- \n",
      " [[0.60205999 0.30103    0.47712125]\n",
      " [0.         0.69897    0.        ]\n",
      " [0.84509804 0.69897    0.69897   ]]\n",
      "\n",
      "Modulo reminder using np\n",
      " -------------------------------------------------- \n",
      " [[1 0 1]\n",
      " [1 0 1]\n",
      " [1 0 2]]\n"
     ]
    }
   ],
   "source": [
    "\n",
    "mat1 = np.random.randint(1,9,9).reshape(3,3)\n",
    "mat2 = np.random.randint(1,9,9).reshape(3,3)\n",
    "print(\"\\n1st Matrix of random single-digit numbers\\n----------------------------------------\\n\",mat1)\n",
    "print(\"\\n2nd Matrix of random single-digit numbers\\n----------------------------------------\\n\",mat2)\n",
    "\n",
    "\n",
    "print(\"\\nSq-root of 1st matrix using np\\n------------------\\n\", np.sqrt(mat1))\n",
    "\n",
    "\n",
    "print(\"\\nExponential power of 1st matrix using np\\n\",'-'*50,\"\\n\", np.exp(mat1))\n",
    "\n",
    "\n",
    "print(\"\\n10-base logarithm on 1st matrix using np\\n\",'-'*50,\"\\n\", np.log10(mat1))\n",
    "\n",
    "\n",
    "print(\"\\nModulo reminder using np\\n\",'-'*50,\"\\n\", np.mod(mat1, mat2))"
   ]
  },
  {
   "cell_type": "code",
   "execution_count": null,
   "metadata": {},
   "outputs": [],
   "source": [
    "\n",
    "mat1 = *****\n",
    "mat2 = *****\n",
    "print(\"\\n1st Matrix of random single-digit numbers\\n----------------------------------------\\n\",*****)\n",
    "print(\"\\n2nd Matrix of random single-digit numbers\\n----------------------------------------\\n\",*****)\n",
    "\n",
    "\n",
    "print(\"\\nSq-root of 1st matrix using np\\n------------------\\n\", *****)\n",
    "\n",
    "\n",
    "print(\"\\nExponential power of 1st matrix using np\\n\",'-'*50,\"\\n\", *****)\n",
    "\n",
    "\n",
    "print(\"\\n10-base logarithm on 1st matrix using np\\n\",'-'*50,\"\\n\", *****)\n",
    "\n",
    "\n",
    "print(\"\\nModulo reminder using np\\n\",'-'*50,\"\\n\", *****)\n"
   ]
  },
  {
   "cell_type": "markdown",
   "metadata": {},
   "source": [
    "### 7.Generating matrices from distributions"
   ]
  },
  {
   "cell_type": "code",
   "execution_count": 25,
   "metadata": {},
   "outputs": [
    {
     "name": "stdout",
     "output_type": "stream",
     "text": [
      "Random number generation (from Uniform distribution)\n",
      "[[0.00670708 0.94841089 0.05647196]\n",
      " [0.10130117 0.96627106 0.12551209]]\n",
      "Numbers from Normal distribution with zero mean and standard deviation 1 i.e. standard normal\n",
      "[[ 1.07262795 -0.48455986 -0.75089121]\n",
      " [-0.98039052 -0.94592639  0.3989835 ]]\n",
      "Random integer vector: [16 53 22 38 14 98 77 17  6  5]\n",
      "\n",
      "Random integer matrix\n",
      "[[14 67  5]\n",
      " [39 25 39]\n",
      " [49 88 24]]\n",
      "\n",
      "20 samples drawn from a dice throw: [1 5 5 5 2 3 5 1 3 2 3 4 2 1 5 2 2 3 3 3]\n"
     ]
    }
   ],
   "source": [
    "\n",
    "print(\"Random number generation (from Uniform distribution)\")\n",
    "print(np.random.rand(2,3)) # 2 by 3 matrix with random numbers ranging from 0 to 1, Note no Tuple is necessary \n",
    "\n",
    "print(\"Numbers from Normal distribution with zero mean and standard deviation 1 i.e. standard normal\")\n",
    "print(np.random.randn(2,3))\n",
    "\n",
    "print(\"Random integer vector:\",np.random.randint(1,100,10)) #randint (low, high, # of samples to be drawn)\n",
    "print (\"\\nRandom integer matrix\")\n",
    "print(np.random.randint(1,100,9).reshape(3,3)) #randint (low, high, # of samples to be drawn in a tuple to form a matrix)\n",
    "\n",
    "print(\"\\n20 samples drawn from a dice throw:\",np.random.randint(1,6,20)) # 20 samples drawn from a dice throw"
   ]
  },
  {
   "cell_type": "code",
   "execution_count": 2,
   "metadata": {},
   "outputs": [
    {
     "ename": "SyntaxError",
     "evalue": "invalid syntax (<ipython-input-2-92f026fcc020>, line 3)",
     "output_type": "error",
     "traceback": [
      "\u001b[1;36m  File \u001b[1;32m\"<ipython-input-2-92f026fcc020>\"\u001b[1;36m, line \u001b[1;32m3\u001b[0m\n\u001b[1;33m    print(******) # 2 by 3 matrix with random numbers ranging from 0 to 1, Note no Tuple is necessary\u001b[0m\n\u001b[1;37m             ^\u001b[0m\n\u001b[1;31mSyntaxError\u001b[0m\u001b[1;31m:\u001b[0m invalid syntax\n"
     ]
    }
   ],
   "source": [
    "\n",
    "print(\"Random number generation (from Uniform distribution)\")\n",
    "print(******) # 2 by 3 matrix with random numbers ranging from 0 to 1, Note no Tuple is necessary \n",
    "\n",
    "print(\"Numbers from Normal distribution with zero mean and standard deviation 1 i.e. standard normal\")\n",
    "print(******)\n",
    "\n",
    "print(\"Random integer vector:\",np.random.randint(1,100,10)) #randint (low, high, # of samples to be drawn)\n",
    "print (\"\\nRandom integer matrix\")\n",
    "print(********) #randint (low, high, # of samples to be drawn in a tuple to form a matrix)\n",
    "\n",
    "print(\"\\n20 samples drawn from a dice throw:\",*******) # 20 samples drawn from a dice throw"
   ]
  },
  {
   "cell_type": "markdown",
   "metadata": {},
   "source": [
    "### 8.Find the nearest value from a given number in an array using NumPy."
   ]
  },
  {
   "cell_type": "code",
   "execution_count": 30,
   "metadata": {},
   "outputs": [
    {
     "name": "stdout",
     "output_type": "stream",
     "text": [
      "Created Matrix is :  [6 8 1 9 7]\n"
     ]
    },
    {
     "data": {
      "text/plain": [
       "3"
      ]
     },
     "execution_count": 30,
     "metadata": {},
     "output_type": "execute_result"
    }
   ],
   "source": [
    "#Steps\n",
    "#Create an array of 5 random element from 1 to 12\n",
    "mat1 = np.random.randint(1,12,5)\n",
    "print (\"Created Matrix is : \",mat1)\n",
    "#Suppose find the nearest values of 10 in an array so set value=10\n",
    "#find the index where difference is minimum and get the element\n",
    "np.argmin(10 - mat1)"
   ]
  },
  {
   "cell_type": "code",
   "execution_count": 21,
   "metadata": {},
   "outputs": [
    {
     "name": "stdout",
     "output_type": "stream",
     "text": [
      "4.859577122593637\n"
     ]
    }
   ],
   "source": [
    "#Steps\n",
    "#Create an array of 5 random element from 1 to 12\n",
    "#Suppose find the nearest values of 10 in an array so set value=10\n",
    "#find the index where difference is minimum and get the element"
   ]
  },
  {
   "cell_type": "markdown",
   "metadata": {},
   "source": [
    "### 9.Write code using numpy to produce following output\n",
    "[[0 0 0] [0 1 2] [0 2 4]]"
   ]
  },
  {
   "cell_type": "code",
   "execution_count": 45,
   "metadata": {},
   "outputs": [
    {
     "data": {
      "text/plain": [
       "array([[0, 0, 0],\n",
       "       [0, 1, 2],\n",
       "       [0, 2, 4]])"
      ]
     },
     "execution_count": 45,
     "metadata": {},
     "output_type": "execute_result"
    }
   ],
   "source": [
    "mat1 = np.array([0,1,2])\n",
    "maat2 = np.array([mat1 * i for i in range(3)])\n",
    "maat2"
   ]
  }
 ],
 "metadata": {
  "kernelspec": {
   "display_name": "Python 3",
   "language": "python",
   "name": "python3"
  },
  "language_info": {
   "codemirror_mode": {
    "name": "ipython",
    "version": 3
   },
   "file_extension": ".py",
   "mimetype": "text/x-python",
   "name": "python",
   "nbconvert_exporter": "python",
   "pygments_lexer": "ipython3",
   "version": "3.7.1"
  }
 },
 "nbformat": 4,
 "nbformat_minor": 2
}
